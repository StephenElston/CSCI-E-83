{
 "cells": [
  {
   "cell_type": "markdown",
   "id": "c3dc0d52",
   "metadata": {},
   "source": [
    "## Review of Linear Algebra\n",
    "\n",
    "This notebook contains some simple examples applying Numpy to simple linear algebra problems includeing eigendecomposition. \n",
    "\n",
    "### Example for simple 2x2 matrix"
   ]
  },
  {
   "cell_type": "code",
   "execution_count": 1,
   "id": "d2bb548f",
   "metadata": {},
   "outputs": [
    {
     "data": {
      "text/plain": [
       "array([[1, 3],\n",
       "       [3, 1]])"
      ]
     },
     "execution_count": 1,
     "metadata": {},
     "output_type": "execute_result"
    }
   ],
   "source": [
    "import numpy as np\n",
    "import numpy.random as nr\n",
    "import matplotlib.pyplot as plt\n",
    "from itertools import combinations\n",
    "%matplotlib inline\n",
    "\n",
    "## Create a small array  \n",
    "A = np.array([[1,3], [3, 1]])\n",
    "A"
   ]
  },
  {
   "cell_type": "code",
   "execution_count": 2,
   "id": "3ef3324a",
   "metadata": {},
   "outputs": [
    {
     "name": "stdout",
     "output_type": "stream",
     "text": [
      "[[ 4.  0.]\n",
      " [ 0. -2.]]\n",
      "[[ 0.70710678  0.70710678]\n",
      " [ 0.70710678 -0.70710678]]\n"
     ]
    }
   ],
   "source": [
    "## Eigendecomposition\n",
    "eigs, Q = np.linalg.eig(A)\n",
    "Q = Q[[1,0],:]\n",
    "Q_transpose = np.copy(Q)\n",
    "Q = np.transpose(Q)\n",
    "Eigs = np.diag(eigs)\n",
    "print(Eigs)\n",
    "print(Q)"
   ]
  },
  {
   "cell_type": "code",
   "execution_count": 3,
   "id": "2c9743d5",
   "metadata": {},
   "outputs": [
    {
     "name": "stdout",
     "output_type": "stream",
     "text": [
      "Euclidean norm of rows of Q\n",
      "[1. 1.]\n",
      "\n",
      "Euclidean norm of columns of Q\n",
      "[1. 1.]\n"
     ]
    }
   ],
   "source": [
    "## Check that Q is unitary and orthogonal   \n",
    "print('Euclidean norm of rows of Q')\n",
    "print(np.linalg.norm(Q, axis=1)) \n",
    "print('\\nEuclidean norm of columns of Q')\n",
    "print(np.linalg.norm(Q, axis=0))"
   ]
  },
  {
   "cell_type": "code",
   "execution_count": 4,
   "id": "bbe05ac1",
   "metadata": {},
   "outputs": [
    {
     "name": "stdout",
     "output_type": "stream",
     "text": [
      "Any non-orthogonal rows? False\n",
      "Any non-orthogonal columns? False\n"
     ]
    }
   ],
   "source": [
    "## Check that Q orthogonal   \n",
    "combs = combinations(range(Q.shape[0]), 2)\n",
    "print('Any non-orthogonal rows? ' + str(np.any([np.dot(Q[i,:],Q[j,:]) for i, j in combs])))\n",
    "print('Any non-orthogonal columns? ' + str(np.any([np.dot(Q[:,i],Q[:,j]) for i, j in combs])))"
   ]
  },
  {
   "cell_type": "code",
   "execution_count": 5,
   "id": "11476935",
   "metadata": {},
   "outputs": [
    {
     "data": {
      "text/plain": [
       "array([[1., 3.],\n",
       "       [3., 1.]])"
      ]
     },
     "execution_count": 5,
     "metadata": {},
     "output_type": "execute_result"
    }
   ],
   "source": [
    "## Reconstruct the matrix from eigendecomponsition \n",
    "np.dot(Q, np.dot(Eigs,Q_transpose))"
   ]
  },
  {
   "cell_type": "code",
   "execution_count": 6,
   "id": "2a76d81e",
   "metadata": {},
   "outputs": [
    {
     "data": {
      "text/plain": [
       "1.999999999999999"
      ]
     },
     "execution_count": 6,
     "metadata": {},
     "output_type": "execute_result"
    }
   ],
   "source": [
    "## Compute the conditon number\n",
    "Cond_num = abs(eigs[0]/eigs[1])\n",
    "Cond_num"
   ]
  },
  {
   "cell_type": "code",
   "execution_count": 7,
   "id": "5ad8f042",
   "metadata": {},
   "outputs": [
    {
     "name": "stdout",
     "output_type": "stream",
     "text": [
      "[[ 0.25  0.  ]\n",
      " [ 0.   -0.5 ]]\n"
     ]
    },
    {
     "data": {
      "text/plain": [
       "array([[-0.125,  0.375],\n",
       "       [ 0.375, -0.125]])"
      ]
     },
     "execution_count": 7,
     "metadata": {},
     "output_type": "execute_result"
    }
   ],
   "source": [
    "## Find the inverse\n",
    "Eigs_inv = np.diag(np.divide(1,eigs))\n",
    "print(Eigs_inv)\n",
    "A_inv = np.dot(Q_transpose, np.dot(Eigs_inv, Q))\n",
    "A_inv"
   ]
  },
  {
   "cell_type": "code",
   "execution_count": 8,
   "id": "2c2c2caf-47e5-4e83-aa43-c67f15b55799",
   "metadata": {},
   "outputs": [
    {
     "name": "stdout",
     "output_type": "stream",
     "text": [
      "[[1.00000000e+00 1.11022302e-16]\n",
      " [4.44089210e-16 1.00000000e+00]]\n"
     ]
    }
   ],
   "source": [
    "print(np.dot(A,A_inv))"
   ]
  },
  {
   "cell_type": "markdown",
   "id": "bc01105b",
   "metadata": {},
   "source": [
    "### Eigenvalues and Rank"
   ]
  },
  {
   "cell_type": "code",
   "execution_count": 9,
   "id": "d5cdfcaa",
   "metadata": {},
   "outputs": [
    {
     "name": "stdout",
     "output_type": "stream",
     "text": [
      "[[ 3 -3  6]\n",
      " [ 2 -2  4]\n",
      " [ 1 -1  2]]\n"
     ]
    }
   ],
   "source": [
    "## Create a new array  \n",
    "B = np.array([[3,-3,6],\n",
    "            [2,-2,4],\n",
    "            [1, -1, 2]])\n",
    "print(B)"
   ]
  },
  {
   "cell_type": "code",
   "execution_count": 10,
   "id": "aa32c6e8",
   "metadata": {},
   "outputs": [
    {
     "name": "stdout",
     "output_type": "stream",
     "text": [
      "[[ 3.00000000e+00  0.00000000e+00  0.00000000e+00]\n",
      " [ 0.00000000e+00  5.23364153e-16  0.00000000e+00]\n",
      " [ 0.00000000e+00  0.00000000e+00 -6.00567308e-17]]\n",
      "\n",
      "\n",
      "[[ 2.67261242e-01  5.34522484e-01  8.01783726e-01]\n",
      " [-4.47213595e-01 -8.94427191e-01  1.03168406e-16]\n",
      " [ 5.20693243e-01  2.15213587e-01 -8.26172899e-01]]\n"
     ]
    }
   ],
   "source": [
    "## Eigenvalues near 0\n",
    "B_eigs, B_Q = np.linalg.eig(B)\n",
    "B_Eigs = np.diag(B_eigs)\n",
    "\n",
    "print(B_Eigs)\n",
    "print('\\n')\n",
    "B_Q = B_Q[[2,1,0],:]\n",
    "B_Q_transpose = np.copy(B_Q)\n",
    "B_Q = np.transpose(B_Q)\n",
    "print(B_Q)"
   ]
  },
  {
   "cell_type": "code",
   "execution_count": 11,
   "id": "56caa686",
   "metadata": {},
   "outputs": [
    {
     "name": "stdout",
     "output_type": "stream",
     "text": [
      "4.995E+16\n"
     ]
    }
   ],
   "source": [
    "## Large condition number   \n",
    "Cond_num = abs(np.max(B_eigs)/np.min(B_eigs))\n",
    "print('{0:4.3E}'.format(Cond_num))"
   ]
  },
  {
   "cell_type": "code",
   "execution_count": 12,
   "id": "bbefae57",
   "metadata": {},
   "outputs": [
    {
     "data": {
      "text/plain": [
       "array([[ 0.21428571, -0.35856858,  0.41748337],\n",
       "       [-0.35856858,  0.6       , -0.69858329],\n",
       "       [ 0.41748337, -0.69858329,  0.81336436]])"
      ]
     },
     "execution_count": 12,
     "metadata": {},
     "output_type": "execute_result"
    }
   ],
   "source": [
    "## Cannot reconstruct matrix\n",
    "np.dot(B_Q, np.dot(B_Eigs, B_Q_transpose))"
   ]
  },
  {
   "cell_type": "code",
   "execution_count": 13,
   "id": "487fd5f7",
   "metadata": {},
   "outputs": [
    {
     "name": "stdout",
     "output_type": "stream",
     "text": [
      "The inverse eigenvalues\n",
      "[[ 3.33333333e-01  0.00000000e+00  0.00000000e+00]\n",
      " [ 0.00000000e+00  1.91071550e+15  0.00000000e+00]\n",
      " [ 0.00000000e+00  0.00000000e+00 -1.66509230e+16]]\n",
      "\n",
      "\n",
      "The inverse is ill-posed with very large values\n",
      "[[-4.13227934e+15 -1.10162056e+15  7.16293811e+15]\n",
      " [-1.10162056e+15  7.57353468e+14  2.96059460e+15]\n",
      " [ 7.16293811e+15  2.96059460e+15 -1.13652816e+16]]\n",
      "\n",
      "Product of inverse by covariance\n",
      "[[-7.43714103e+15  7.43714103e+15 -1.48742821e+16]\n",
      " [ 1.17043984e+15 -1.17043984e+15  2.34087968e+15]\n",
      " [ 1.60447219e+16 -1.60447219e+16  3.20894438e+16]]\n"
     ]
    }
   ],
   "source": [
    "## Inverse is not stable\n",
    "inv_B_eigs = np.diag(np.divide(1,B_eigs))\n",
    "print('The inverse eigenvalues')\n",
    "print(inv_B_eigs)\n",
    "print('\\n')\n",
    "print('The inverse is ill-posed with very large values')\n",
    "inv_B = np.dot(B_Q_transpose,(np.dot(inv_B_eigs, B_Q)))\n",
    "print(inv_B)\n",
    "\n",
    "print('\\nProduct of inverse by covariance')\n",
    "print(np.dot(inv_B, B))"
   ]
  },
  {
   "cell_type": "markdown",
   "id": "07fd90da",
   "metadata": {},
   "source": [
    "### Example with Data"
   ]
  },
  {
   "cell_type": "code",
   "execution_count": 14,
   "id": "072b986a",
   "metadata": {},
   "outputs": [
    {
     "data": {
      "image/png": "[encoded data removed]",
      "text/plain": [
       "<Figure size 640x480 with 1 Axes>"
      ]
     },
     "metadata": {},
     "output_type": "display_data"
    }
   ],
   "source": [
    "nr.seed(124)\n",
    "cov = np.array([[1.0, 0.6], [0.6, 1.0]])\n",
    "mean = np.array([0.0, 0.0])\n",
    "\n",
    "sample = nr.multivariate_normal(mean, cov, 100)\n",
    "\n",
    "plt.scatter(sample[:,0], sample[:,1]);\n",
    "plt.xlabel('Dimension 1');\n",
    "plt.ylabel('Dimension 2');\n",
    "plt.title('Sample data');"
   ]
  },
  {
   "cell_type": "code",
   "execution_count": 15,
   "id": "679e1b4e",
   "metadata": {},
   "outputs": [
    {
     "data": {
      "text/plain": [
       "array([[40.504917  , 32.86396054],\n",
       "       [32.86396054, 58.31290287]])"
      ]
     },
     "execution_count": 15,
     "metadata": {},
     "output_type": "execute_result"
    }
   ],
   "source": [
    "## Compute the covariance \n",
    "cov_sample = 0.5 * np.dot(np.transpose(sample), sample)\n",
    "cov_sample"
   ]
  },
  {
   "cell_type": "code",
   "execution_count": 16,
   "id": "342a458e",
   "metadata": {},
   "outputs": [
    {
     "name": "stdout",
     "output_type": "stream",
     "text": [
      "[[15.36010683  0.        ]\n",
      " [ 0.         83.45771303]]\n",
      "\n",
      "\n",
      "[[-0.79419984  0.60765665]\n",
      " [-0.60765665 -0.79419984]]\n",
      "\n",
      "The condition number =   5.43\n"
     ]
    }
   ],
   "source": [
    "## Eigendecomposition of covariance  \n",
    "sample_eigs, sample_Q = np.linalg.eig(cov_sample)\n",
    "Sample_Eigs = np.diag(sample_eigs)\n",
    "print(Sample_Eigs)\n",
    "print('\\n')\n",
    "Q = Q[[1,0],:]\n",
    "sample_Q_transpose = np.copy(sample_Q)\n",
    "sample_Q = np.transpose(sample_Q)\n",
    "print(sample_Q)\n",
    "print('\\nThe condition number = {0:6.3}'.format(np.max(sample_eigs)/np.min(sample_eigs)))"
   ]
  },
  {
   "cell_type": "code",
   "execution_count": 17,
   "id": "79d67d14",
   "metadata": {},
   "outputs": [
    {
     "data": {
      "text/plain": [
       "array([[ 40.504917  , -32.86396054],\n",
       "       [-32.86396054,  58.31290287]])"
      ]
     },
     "execution_count": 17,
     "metadata": {},
     "output_type": "execute_result"
    }
   ],
   "source": [
    "## Reconstruct the covariance matrix   \n",
    "np.dot(sample_Q, np.dot(Sample_Eigs, sample_Q_transpose))"
   ]
  },
  {
   "cell_type": "code",
   "execution_count": 18,
   "id": "e2ae0e99",
   "metadata": {},
   "outputs": [
    {
     "name": "stdout",
     "output_type": "stream",
     "text": [
      "[[0.06510371 0.        ]\n",
      " [0.         0.01198212]]\n",
      "\n",
      "Inverse Convariance matrix\n",
      "[[ 0.04548874 -0.02563653]\n",
      " [-0.02563653  0.03159709]]\n",
      "\n",
      "Product of inverse and covariance matrix\n",
      "[[1. 0.]\n",
      " [0. 1.]]\n"
     ]
    }
   ],
   "source": [
    "## Find and test the inverse   \n",
    "Inv_Sample_Eigs = np.linalg.inv(Sample_Eigs)\n",
    "print(Inv_Sample_Eigs)\n",
    "print('\\nInverse Convariance matrix')\n",
    "inv_covariance = np.dot(sample_Q_transpose,(np.dot(Inv_Sample_Eigs, sample_Q)))\n",
    "print(inv_covariance)\n",
    "print('\\nProduct of inverse and covariance matrix')\n",
    "print(np.dot(inv_covariance, cov_sample))"
   ]
  },
  {
   "cell_type": "markdown",
   "id": "0762f648",
   "metadata": {},
   "source": [
    "## Example: Increase linear dependency of variables"
   ]
  },
  {
   "cell_type": "code",
   "execution_count": 19,
   "id": "edca9930",
   "metadata": {},
   "outputs": [
    {
     "data": {
      "image/png": "[encoded data removed]",
      "text/plain": [
       "<Figure size 640x480 with 1 Axes>"
      ]
     },
     "metadata": {},
     "output_type": "display_data"
    }
   ],
   "source": [
    "## Increase colinearity of variables \n",
    "nr.seed(124)\n",
    "cov = np.array([[1.0, 0.999], [0.999, 1.0]])\n",
    "mean = np.array([0.0, 0.0])\n",
    "\n",
    "sample2 = nr.multivariate_normal(mean, cov, 100)\n",
    "\n",
    "plt.scatter(sample2[:,0], sample2[:,1]);\n",
    "plt.xlabel('Dimension 1');\n",
    "plt.ylabel('Dimension 2');\n",
    "plt.title('Sample data');"
   ]
  },
  {
   "cell_type": "code",
   "execution_count": 20,
   "id": "5e2b0ff5",
   "metadata": {},
   "outputs": [
    {
     "name": "stdout",
     "output_type": "stream",
     "text": [
      "[[50.91789107 51.37415259]\n",
      " [51.37415259 51.91313884]]\n",
      "\n",
      "\n",
      "[[3.89523705e-02 0.00000000e+00]\n",
      " [0.00000000e+00 1.02792078e+02]]\n",
      "\n",
      "\n",
      "[[-0.71052298  0.703674  ]\n",
      " [-0.703674   -0.71052298]]\n",
      "\n",
      "The condition number = 2.64e+03\n"
     ]
    }
   ],
   "source": [
    "## Compute covariance and eigendecompositon   \n",
    "cov_sample2 = np.dot(np.transpose(sample2), sample2)/sample2.shape[1]\n",
    "print(cov_sample2)\n",
    "print('\\n')\n",
    "sample2_eigs, sample2_Q = np.linalg.eig(cov_sample2)\n",
    "Sample2_Eigs = np.diag(sample2_eigs)\n",
    "print(Sample2_Eigs)\n",
    "print('\\n')\n",
    "Q = Q[[1,0],:]\n",
    "sample2_Q_transpose = np.copy(sample2_Q)\n",
    "sample2_Q = np.transpose(sample2_Q)\n",
    "print(sample2_Q)\n",
    "print('\\nThe condition number = {0:6.3}'.format(np.max(sample2_eigs)/np.min(sample2_eigs)))"
   ]
  },
  {
   "cell_type": "code",
   "execution_count": 21,
   "id": "311626ca",
   "metadata": {},
   "outputs": [
    {
     "name": "stdout",
     "output_type": "stream",
     "text": [
      "The inverse eigenvalues\n",
      "[[2.56723785e+01 0.00000000e+00]\n",
      " [0.00000000e+00 9.72837619e-03]]\n",
      "\n",
      "Inverse Convariance matrix\n",
      "[[ 12.9653353  -12.83072318]\n",
      " [-12.83072318  12.71677161]]\n",
      "\n",
      "Product of inverse and covariance matrix\n",
      "[[ 1.00000000e+00 -1.13686838e-13]\n",
      " [ 1.13686838e-13  1.00000000e+00]]\n"
     ]
    }
   ],
   "source": [
    "## Find and test the inverse   \n",
    "inv_B_eigs2 = np.linalg.inv(Sample2_Eigs)\n",
    "print('The inverse eigenvalues')\n",
    "print(inv_B_eigs2)\n",
    "print('\\nInverse Convariance matrix')\n",
    "inv_covariance2 = np.dot(sample2_Q_transpose,(np.dot(inv_B_eigs2, sample2_Q)))\n",
    "print(inv_covariance2)\n",
    "print('\\nProduct of inverse and covariance matrix')\n",
    "print(np.dot(inv_covariance2, cov_sample2))"
   ]
  },
  {
   "cell_type": "markdown",
   "id": "fb01d0cd",
   "metadata": {},
   "source": [
    "## Example: Higher dimensions with increased colinarity "
   ]
  },
  {
   "cell_type": "code",
   "execution_count": null,
   "id": "1edb76c0",
   "metadata": {},
   "outputs": [],
   "source": [
    "## create an array with 4 nearly colinear columns \n",
    "n_rows = len(sample2)\n",
    "n_cols = 8\n",
    "cov_large=0.99999999\n",
    "nr.seed(1234)\n",
    "cov3 = np.full((n_cols,n_cols), cov_large) \n",
    "diags = [1.0]*n_cols\n",
    "for i in range(n_cols):\n",
    "    cov3[i,i] = diags[i]\n",
    "mean = np.array([0.0] * n_cols)\n",
    "\n",
    "sample3 = nr.multivariate_normal(mean, cov3, n_rows)\n",
    "\n",
    "print(sample3[:10])"
   ]
  },
  {
   "cell_type": "code",
   "execution_count": null,
   "id": "9ae41a80",
   "metadata": {},
   "outputs": [],
   "source": [
    "## Compute the covariance matrix   \n",
    "cov_sample3 = np.dot(np.transpose(sample3), sample3)/sample3.shape[1]\n",
    "print(cov_sample3)"
   ]
  },
  {
   "cell_type": "code",
   "execution_count": null,
   "id": "b215b34b",
   "metadata": {},
   "outputs": [],
   "source": [
    "## Compute and display the eigen decomposition \n",
    "sample3_eigs, sample3_Q = np.linalg.eig(cov_sample3)\n",
    "print('The eigenvalues')\n",
    "print(sample3_eigs)\n",
    "print('\\n')\n",
    "print(sample3_Q)\n",
    "print('\\nThe condition number = {0:6.3}'.format(np.max(sample3_eigs)/np.min(sample3_eigs)))"
   ]
  },
  {
   "cell_type": "code",
   "execution_count": null,
   "id": "96331126",
   "metadata": {},
   "outputs": [],
   "source": [
    "## Find and test the inverse   \n",
    "inv_eigs3 = np.linalg.inv(np.diag(sample3_eigs))\n",
    "print('The inverse eigenvalues')\n",
    "print(inv_eigs3)\n",
    "print('\\nInverse Convariance matrix')\n",
    "inv_covariance3 = np.dot(sample3_Q,(np.dot(inv_eigs3, np.transpose(sample3_Q))))\n",
    "print(inv_covariance3)\n",
    "print('\\nProduct of inverse and covariance matrix')\n",
    "print(np.dot(inv_covariance3, cov_sample3))"
   ]
  },
  {
   "cell_type": "markdown",
   "id": "021f8470",
   "metadata": {},
   "source": [
    "## Singlular Value Decomposition (SVD)  "
   ]
  },
  {
   "cell_type": "code",
   "execution_count": null,
   "id": "8f5256b2",
   "metadata": {},
   "outputs": [],
   "source": [
    "## SVD decomposition of sample  \n",
    "U, S, V = np.linalg.svd(sample2)\n",
    "U = U[:,:2]\n",
    "print('U')\n",
    "print(U)\n",
    "print('Dimensions of U = ' + str(U.shape))\n",
    "print('\\nS')\n",
    "print(np.diag(S))\n",
    "print('\\nV')\n",
    "print(V)"
   ]
  },
  {
   "cell_type": "code",
   "execution_count": null,
   "id": "319c865c",
   "metadata": {},
   "outputs": [],
   "source": [
    "## How good is the reconstruction? \n",
    "sample2_reconstructed = np.dot(U, np.dot(np.diag(S), V))\n",
    "print(\"Dimensions of reconstruction = \" + str(sample2_reconstructed.shape))\n",
    "print(\"Norm of difference with reconstructed matrix = \" + str(np.linalg.norm(sample2 - sample2_reconstructed)))"
   ]
  },
  {
   "cell_type": "code",
   "execution_count": null,
   "id": "42aae540",
   "metadata": {},
   "outputs": [],
   "source": [
    "## Test inverse of decompostion\n",
    "S_inverse = np.diag([1/s for s in S])\n",
    "sample2_svd_inverse = np.dot(V, np.dot(S_inverse, np.transpose(U)))\n",
    "np.dot(sample2_svd_inverse, sample2)"
   ]
  },
  {
   "cell_type": "code",
   "execution_count": null,
   "id": "d2eab74c",
   "metadata": {},
   "outputs": [],
   "source": []
  }
 ],
 "metadata": {
  "kernelspec": {
   "display_name": "Python 3 (ipykernel)",
   "language": "python",
   "name": "python3"
  },
  "language_info": {
   "codemirror_mode": {
    "name": "ipython",
    "version": 3
   },
   "file_extension": ".py",
   "mimetype": "text/x-python",
   "name": "python",
   "nbconvert_exporter": "python",
   "pygments_lexer": "ipython3",
   "version": "3.9.18"
  }
 },
 "nbformat": 4,
 "nbformat_minor": 5
}
