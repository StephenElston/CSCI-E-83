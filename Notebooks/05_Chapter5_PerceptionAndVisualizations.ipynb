{
 "cells": [
  {
   "cell_type": "markdown",
   "metadata": {},
   "source": [
    "\n"
   ]
  },
  {
   "cell_type": "markdown",
   "metadata": {},
   "source": [
    "# Chapter 5     \n",
    "# Introduction to Perception and Visualization\n",
    "\n",
    "In this chapter, we will investigate techniques to maximize the information a viewer perceives from data visualizations. Creating a visualization that optimizes human perception can highlight important insights. When faced with trying to understand complex data sets the limits of human perception become a significant factor. Applying the results of the considerable research on human perceptions for data visualization can help the process considerably. \n",
    "   \n",
    "This chapter explores using plot aesthetics to improve the perception of complex relationships. We take a very broad view of the term 'aesthetic' here. By plot aesthetics, we mean properties of a visualization that highlight aspects of the data relationships. Additionally, aesthetics are used to project additional dimensions of complex data onto the 2-dimensional plot surface.  In summary, applying aesthetics with a bit of cleverness can lead to interesting insights about a data set.    \n",
    "\n",
    "In each section of this chapter, we will explore one aspect of using Python visualization tools to effectively understand the relationships in complex data sets. These sections are ordered by how good human perception is for those aesthetics: \n",
    "\n",
    "1. **Easy to perceive plot aesthetics:** We will start with generally easy to perceive aesthetics. These aesthetics are the most powerful at enhancing a viewer's perception. If possible, these aesthetics should be preferred when creating visualizations.    \n",
    " \n",
    "2. **Aesthetics with moderate perceptive power:** There are certain aesthetics, that are effective, but only when used within their limits.       \n",
    "\n",
    "3. **Aesthetics with limited perceptive power:** We will review some commonly used aesthetics that have limited perception power. Such aesthetics must be used sparingly.  Nonetheless, these aesthetics can still be useful in highlighting certain relationships in complex data sets.   \n",
    "\n",
    "There are many possible plot properties or aesthetics one can use for visualization. This chapter is by no means comprehensive. Specific examples of aesthetics discussed here, the applicable data types, and the relative perceptive power are summarized in the table below:\n",
    "\n",
    "| Property or Aesthetic |Perception| Data Types |\n",
    "|:---------|:-----------|:------------|\n",
    "|Aspect ratio | Good | Numeric |\n",
    "|Regression lines | Good | Numeric plus categorical |\n",
    "|Marker position | Good | Numeric |\n",
    "|Bar length | Good | Counts, numeric |\n",
    "|Sequential color palette | Moderate | Numeric, ordered categorical |\n",
    "|Marker size | Moderate | Numeric, ordered categorical |\n",
    "|Line types | Limited | Categorical |\n",
    "|Qualitative color palette | Limited | Categorical|\n",
    "| Marker shape | Limited | Categorical |\n",
    "| Area | Limited | Numeric or categorical |\n",
    "| Angle | Limited | Numeric |\n",
    "\n",
    "\n",
    "> **Limits of perception** Don't over do it! All aesthetics have limitations. Using too many colors, shapes, line styles, etc., can be confusing. Poor practice will obfuscate rather than enlighten. \n",
    "\n",
    "\n",
    "# Easy to Perceive Aesthetics\n",
    "\n",
    "In this section, we will explore some plot aesthetics and attributes which maximize human perception. By employing these aesthetics or plot attributes you can create visualizations that are more likely to highlight key relationships in your data set.  \n",
    "\n",
    "For the running example in this chapter, we will work with a data set containing the prices and characteristics of a number of automobiles. The ultimate goal is to understand the relationship between the price and fuel economy of a car and its characteristics.\n"
   ]
  },
  {
   "cell_type": "code",
   "execution_count": null,
   "metadata": {},
   "outputs": [],
   "source": [
    "import pandas as pd\n",
    "import numpy as np\n",
    "import statsmodels.api as sm\n",
    "from math import log, sqrt\n",
    "import seaborn as sns\n",
    "from math import log, sqrt, sin\n",
    "import matplotlib.pyplot as plt\n",
    "from sklearn.preprocessing import PowerTransformer\n",
    "%matplotlib inline\n",
    "\n",
    "auto_price = pd.read_csv('../data//AutoPricesClean.csv')\n"
   ]
  },
  {
   "cell_type": "markdown",
   "metadata": {},
   "source": [
    "## Aspect Ratio and Banking\n",
    "\n",
    "Changing the **aspect ratio** has a significant influence on how a viewer perceives a chart. The correct aspect ratio can help highlight important relationships in complex data sets. Conversely, poorly chosen or exaggerated aspect ratios can greatly distort human perception of the displayed relationship.  \n",
    "\n",
    "We express aspect ratio as follows:     \n",
    "\n",
    "$$aspect\\ ratio = \\frac{width}{height}\\ : 1$$\n",
    "The aspect ratio can be expressed either way. A tall narrow plot might have an aspect ratio of 1:4. Whereas, a wide low plot might have an aspect ratio of 4:1.   \n",
    "\n",
    "The key to understanding how the aspect ratio affects perception is the **banking angle** [@Cleveland_1993]. The banking angle is the average absolute angle of the curve displayed in a graph. Cleveland has shown that finding an aspect ratio that gives a banking angle of approximately $45^{\\circ}$ optimizes the perception of changes in slope. \n",
    "\n",
    "Let's look at an example of how aspect ratio and banking angle can change the perception of a plot. The annual count of sunspots time series [@WDC-SILSO] is one of the longest scientific time series in existence. The code in the cell below contains the sunspot count from 1700 to 1980. \n"
   ]
  },
  {
   "cell_type": "code",
   "execution_count": null,
   "metadata": {},
   "outputs": [],
   "source": [
    "sunspots_data = sm.datasets.sunspots.load_pandas().data\n",
    "sunspots_data.head()\n"
   ]
  },
  {
   "cell_type": "markdown",
   "metadata": {},
   "source": [
    "The two columns are the year and the number of sunspots. \n",
    "\n",
    "We will make the first plot of this time series with an aspect ratio of about 1:1. The code below makes a **time series plot** with the date on the horizontal axis and the number of sunspots in each year on the vertical axis. Since these observations are ordered in time, a line plot is used.  \n"
   ]
  },
  {
   "cell_type": "code",
   "execution_count": null,
   "metadata": {},
   "outputs": [],
   "source": [
    "fig, ax = plt.subplots(figsize=(12, 12))\n",
    "fig.subplots_adjust(bottom=0.3)\n",
    "ax = sns.lineplot(x='YEAR', y='SUNACTIVITY', data=sunspots_data, errorbar=None, ax=ax)\n",
    "_=ax.set_title('Sunspot time series with 1:1 aspect ratio', fontsize=24)\n",
    "_=ax.set_xlabel('Date', fontsize=20)\n",
    "_=ax.set_ylabel('Sunspots', fontsize=20)\n",
    "_=ax.tick_params(labelsize=18)\n",
    "plt.show()"
   ]
  },
  {
   "cell_type": "markdown",
   "metadata": {},
   "source": [
    "There are two points to notice about the time series displayed here:\n",
    "1. The number of sunspots is periodic in time. This is the well-known **sunspot cycle**, with a period of approximately 11 years.  \n",
    "2. Given this aspect ratio, each cycle appears to be symmetric. But, notice that the average slope or banking angle in this plot is high, much greater than $45^{\\circ}$. \n",
    "\n",
    "What happens if we change the aspect ratio to about 15:1 to improve the banking angle? The code in the cell below creates just such a plot.\n"
   ]
  },
  {
   "cell_type": "code",
   "execution_count": null,
   "metadata": {},
   "outputs": [],
   "source": [
    "fig, ax = plt.subplots(figsize=(20, 1))\n",
    "fig.subplots_adjust(bottom=0.4,top=0.7)\n",
    "ax = sns.lineplot(x='YEAR', y='SUNACTIVITY', data=sunspots_data, errorbar=None, ax=ax)\n",
    "_=ax.set_title('Sunspot time series with 20:1 aspect ratio', fontsize=24)\n",
    "_=ax.set_xlabel('Date', fontsize=20)\n",
    "_=ax.set_ylabel('Sunspots', fontsize=20)\n",
    "_=ax.tick_params(labelsize=18)\n",
    "plt.show()"
   ]
  },
  {
   "cell_type": "markdown",
   "metadata": {},
   "source": [
    "You can see that the banking angle in the plot is now considerably lower than before. The banking angle for most of each cycle is much closer to $45^{\\circ}$. The lower banking angle brings a new, and important, property of the time series to light. The rise of the cycle is generally much faster than the drop in activity. You can see this in the asymmetry of most of the cycles.\n",
    "\n",
    "\n",
    "> **Exercise 5-1:** To better understand the effects of changing aspect ratio and therefore banking angle, try the following. Create 3 scatter plots using the Seaborn [lmplot](https://seaborn.pydata.org/generated/seaborn.lmplot.html) function with the following properties: \n",
    "> 1. Place price on the vertical axis and city MPG on the horizontal axis.    \n",
    "> 2. Use fuel type for the `hue` argument. Include a second-order polynomial curve.   \n",
    "> 3. The aspect ratio of these three plots should be a) 1:1, b) 1:2, c) 4:1.   \n",
    "> 4. For `lmplot` you will need to set an appropriate `height` and `aspect` argument to make each of these plots.    \n",
    "> Reference to the Seaborn documentation will be helpful. "
   ]
  },
  {
   "cell_type": "code",
   "execution_count": null,
   "metadata": {},
   "outputs": [],
   "source": [
    "## Put your code below\n",
    "\n",
    "\n",
    "\n"
   ]
  },
  {
   "cell_type": "markdown",
   "metadata": {},
   "source": [
    "> Notice that the relationship between the price and city MPG does not follow a straight line for either fuel type for the 1:1 aspect ratio. How does increasing or decreasing the aspect ratio change the banking angle and therefore your perception of these relationships?    "
   ]
  },
  {
   "cell_type": "markdown",
   "metadata": {},
   "source": [
    "> **Answer:** \n"
   ]
  },
  {
   "cell_type": "markdown",
   "metadata": {},
   "source": [
    "> **Exercise 5-2:** Poor human perception of angle was mentioned in the introduction to this chapter. To demonstrate this create a plot with three lines using the following x,y end points using the same set of axes: a) (0,0) and (5,5), b) (0,0.5) and (5,6), and c) (0,1) and (5,7). Make sure the aspect ratio of the plots are approximately 1:1, by setting the 'figsize' argument for the Matplotlib 'subplots' function. "
   ]
  },
  {
   "cell_type": "code",
   "execution_count": null,
   "metadata": {},
   "outputs": [],
   "source": [
    "## Put your code below\n",
    "\n"
   ]
  },
  {
   "cell_type": "markdown",
   "metadata": {},
   "source": [
    "> Notice these plots all have the similar slopes. But, how well can you perceive these difference in slopes? In other words, can you preceive the small differences in slope between the three lines?  "
   ]
  },
  {
   "cell_type": "markdown",
   "metadata": {},
   "source": [
    "> **Answer:** "
   ]
  },
  {
   "cell_type": "markdown",
   "metadata": {},
   "source": [
    "## Marker Position and Scatter Plots\n",
    "\n",
    "Human perception of even small differences in position is quite acute. This acute perception makes scatter plots and other plots using marker position quite effective. As a result, scatter plots are one of the most widely used, useful, and powerful plot types, despite the apparent simplicity. \n",
    "\n",
    "Scatter plots show the relationship between two variables in the form of marker positions on the plot. In simple terms, the values along a horizontal axis are plotted against a vertical axis. \n",
    "\n",
    "As a reference point for a running example in this chapter we will start with a basic scatter plot. The code below creates a plot of city MPG on the horizontal axis and vehicle curb weight on the vertical axis. "
   ]
  },
  {
   "cell_type": "code",
   "execution_count": null,
   "metadata": {},
   "outputs": [],
   "source": [
    "fig = plt.figure(figsize=(10, 8))\n",
    "ax = sns.scatterplot(x='city_mpg', y='curb_weight', data=auto_price)\n",
    "_=ax.set_title('Scatter plot of Vehicle Weight vs MPG', fontsize=18) # Give the plot a main title\n",
    "_=ax.set_xlabel('City MPG', fontsize=16) # Set text for the x axis\n",
    "_=ax.set_ylabel('Vehicle Weight', fontsize=16) # Set text for y axis\n",
    "plt.show()"
   ]
  },
  {
   "cell_type": "markdown",
   "metadata": {},
   "source": [
    "In this plot, you can see very small differences in the vehicle weight for each value of city MPG. These values are quite small in some cases, yet you can easily see the differences. Notice that city MPG is quantized in 1 MPG units.     "
   ]
  },
  {
   "cell_type": "markdown",
   "metadata": {},
   "source": [
    "> **Exercise: 5-3** You can demonstrate the perceptual power of position by creating a plot following these steps. \n",
    "> 1. Create a Numpy array with a series of x,y pairs of points for the plot, running from 0.0 to 4.0 by increments of 1.0. You can create the series using the [numpy.arange](https://numpy.org/doc/stable/reference/generated/numpy.arange.html) function.    \n",
    "> 2. Next, create an array of offset values starting at 0.00001 and ending at 0.1, by powers of 10. You can create this array using the [numpy.power](https://numpy.org/doc/stable/reference/generated/numpy.power.html) function with an array of powers of 10 as the argument. Create a new array by adding the array of offsets to the array you created in step 1.  \n",
    "> 3. Make one scatter plot with [matplotlib.pyplot.scatter](https://matplotlib.org/stable/api/_as_gen/matplotlib.pyplot.scatter.html) for both the first array and the array with the offsets. Set the point size small with the `s=5` argument. The x and y values are the same for both sets of points (one array used for both arguments), only the offsets are different. Make sure the size of the plot is large enough to clearly see as many differences as possible. \n",
    "> Execute your code. "
   ]
  },
  {
   "cell_type": "code",
   "execution_count": null,
   "metadata": {},
   "outputs": [],
   "source": [
    "## Put your code below   \n",
    "\n",
    "\n"
   ]
  },
  {
   "cell_type": "markdown",
   "metadata": {},
   "source": [
    "> Examine your plot and answer the following questions:    \n",
    "> 1. Which of these differences can you see? \n",
    "> 2. What does this tell you about perception of small differences in position on a plot? "
   ]
  },
  {
   "cell_type": "markdown",
   "metadata": {},
   "source": [
    "> **Answers:**    \n",
    "> 1.        \n",
    "> 2.     "
   ]
  },
  {
   "cell_type": "markdown",
   "metadata": {},
   "source": [
    "## Bar Length and Ordered Bar plots\n",
    "\n",
    "Length is another plot aesthetic or property for which human perception is quite sensitive. Most people can discern small differences in length. Thus, the perception of relationships in bar plots can be quite good.  \n",
    "\n",
    "Bar plots are used to display the counts of unique values of a categorical variable. The length of the bar represents the count for each unique category of the variable. Small differences in the counts, resulting in small differences in the bar lengths are quite perceptible.    \n",
    "\n",
    "The code in the cell below uses the Seaborn [`countplot`](https://seaborn.pydata.org/generated/seaborn.countplot.html) function to create a bar chart of the number of cars by make.  "
   ]
  },
  {
   "cell_type": "code",
   "execution_count": null,
   "metadata": {},
   "outputs": [],
   "source": [
    "fig, ax = plt.subplots(figsize=(10, 8))\n",
    "fig.subplots_adjust(bottom=0.3)\n",
    "ax = sns.countplot(x='make', data=auto_price, color='gray', ax=ax)\n",
    "_=ax.set_title('Number of auto types by make', fontsize=24) # Give the plot a main title\n",
    "_=ax.set_xlabel('Make', fontsize=16) # Set text for the x axis\n",
    "_=ax.set_ylabel('Number of autos', fontsize=16)# Set text for y axis\n",
    "_=ax.set_xticklabels(ax.get_xticklabels(), rotation=90, fontsize=18)\n",
    "plt.show()\n"
   ]
  },
  {
   "cell_type": "markdown",
   "metadata": {},
   "source": [
    "This chart is hard to interpret since the bars are not ordered by height. You cannot tell which makes have identical counts or which makes might have slightly higher or lower counts. Even though the human perception of differences in length is generally quite good, if the lengths being judged are separated by other bars, determining small differences in length is difficult. \n",
    "\n",
    "What is the solution? The bars in the plot must be ordered by length. Placing the bars in increasing or decreasing order greatly enhances perception. \n",
    "\n",
    "The code below orders the counts using **chained** Pandas methods:  \n",
    "1. The [`value_counts`](https://pandas.pydata.org/pandas-docs/stable/reference/api/pandas.Series.value_counts.html) method computes the course. \n",
    "2. The [`reset_index`](https://pandas.pydata.org/pandas-docs/stable/reference/api/pandas.DataFrame.reset_index.html) method fixes the index of the Pandas series in count order.\n",
    "\n",
    "The Seaborn [`barplot`](https://seaborn.pydata.org/generated/seaborn.barplot.html) function is similar to `countplot`, but works on numerical counts. Since the series object is ordered `barplot` creates an ordered bar plot. \n"
   ]
  },
  {
   "cell_type": "code",
   "execution_count": null,
   "metadata": {},
   "outputs": [],
   "source": [
    "counts = auto_price['make'].value_counts().reset_index() \n",
    "print(counts.columns)\n",
    "\n",
    "\n",
    "fig, ax = plt.subplots(figsize=(10, 8))\n",
    "fig.subplots_adjust(bottom=0.3)\n",
    "ax = sns.barplot(x='make', y='count', data=counts, color='gray', ax=ax) \n",
    "_=ax.set_title('Number of auto types by make', fontsize=24) # Give the plot a main title\n",
    "_=ax.set_xlabel('Make', fontsize=16) # Set text for the x axis\n",
    "_=ax.set_ylabel('Number of autos', fontsize=16)# Set text for y axis\n",
    "_=ax.set_xticklabels(ax.get_xticklabels(), rotation=90, fontsize=18)\n",
    "plt.show()"
   ]
  },
  {
   "cell_type": "code",
   "execution_count": null,
   "metadata": {},
   "outputs": [],
   "source": [
    "counts.head()"
   ]
  },
  {
   "cell_type": "markdown",
   "metadata": {},
   "source": [
    "Now the bar plot is ordered. You can easily see the relationship of the number of auto models by make.  \n",
    "\n",
    "It is worth considering commonly used alternatives to a simple bar plot. These alternatives have **poor perceptual qualities** and **should be avoided**. \n",
    "- **Stacked bar charts:** When multiple categories are stacked into a single bar, the viewer often has difficulty determining the relative lengths of the sub-segments in the bars. Except in special cases, the alignment of the sub-segments will be somewhat random and hard to compare. The perceptual problem is similar to the un-ordered bar chart.      \n",
    "- **Pie charts:** Pie charts use area or angle, rather than length to show relative values. Human perception of both area and angle is quite poor in general. Interpreting pie charts depends on perception of either area, angle, or both. Further, when there are more than a few categories the small differences in the area of the slices become completely unnoticeable.    \n",
    "\n",
    "Is there a good alternative to stacked bar charts and pie charts? Yes. In the previous chapter, we created a bar plot of one variable grouped by the `hue` argument variable. Such a plot is much easier to interpret than a stacked bar chart in general.   "
   ]
  },
  {
   "cell_type": "markdown",
   "metadata": {},
   "source": [
    "> **Exercise 5-4:** To demonstrate the interpretation problems with pie charts, create a pie chart. As of this writing, there is no pie chart in Seaborn. Therefore you can use the pie chart method in Pandas, [`dataframe.plot.pie`](https://pandas.pydata.org/pandas-docs/stable/reference/api/pandas.DataFrame.plot.pie.html). "
   ]
  },
  {
   "cell_type": "code",
   "execution_count": null,
   "metadata": {},
   "outputs": [],
   "source": [
    "## Put your code below  \n",
    "\n"
   ]
  },
  {
   "cell_type": "markdown",
   "metadata": {},
   "source": [
    "> Is it possible to interpret the differences in the numbers of models for each manufacturer and why?    "
   ]
  },
  {
   "cell_type": "markdown",
   "metadata": {},
   "source": [
    "> **Answer:**      "
   ]
  },
  {
   "cell_type": "markdown",
   "metadata": {},
   "source": [
    "##  Aesthetics with Moderate Perceptive Power\n",
    "\n",
    "Many plot aesthetics are effective if used correctly, and within their limitations. In this section, we address a few widely used examples. \n",
    "\n",
    "### Sequential and Divergent Color Palettes\n",
    "\n",
    "Use of **color** as an aesthetic in visualization is a complicated subject. While color is often used, it is also often abused and leads to misleading or uninterpretable results. \n",
    "\n",
    "To structure our discussion, we will define two particular cases for the use of color in visualization:     \n",
    "- A **qualitative palette** is a palette of individual colors used to display categorical values. We will address this case later.     \n",
    "- **Sequential palettes** and **divergent palettes** are a sequence of colors used to display a quantitative variable or ordered categorical variable. A sequential palette contains a color sequence of changing hue, which corresponds to a sequence of changing values of a quantitative variable, or ordered categorical variable. A divergent palette has two sequences of hues with a gap in the center. Divergent palettes are useful for quantitative variables with positive and negative values.    \n",
    "\n",
    "> **Limits of color:** Regardless of the approach there are some significant limitations:\n",
    "> 1. A significant number of people are color blind. Red-green color blindness is most common, particularly in men. Keep this fact in mind when selecting a color palette. \n",
    "> 2. Even the best sequential or divergent palettes show only the relative value of numeric variables. Perception of exact numeric values is difficult, except in special cases.  \n",
    "\n",
    "#### Example with sequential color palette\n",
    "\n",
    "When doing data visualization in Python you have the choice of several sets of well-designed sequential and divergent color palettes. [There is an extensive set of palette choices in Seaborn](https://seaborn.pydata.org/tutorial/color_palettes.html). Matplotlib contains [another set of high-quality palettes](https://matplotlib.org/3.1.1/tutorials/colors/colormaps.html). These Matplotlib options, including **perceptually uniform palettes**, are expertly designed to optimize human perception. \n",
    "\n",
    "The code in the cell below creates a scatter plot with city MPG on the horizontal axis and vehicle curb weight on the vertical axis. The vehicle price shown uses the sequential `magma` palette from Matplotlib. Magma uses 'hotter' colors to show larger values of a quantitative variable. "
   ]
  },
  {
   "cell_type": "code",
   "execution_count": null,
   "metadata": {},
   "outputs": [],
   "source": [
    "fig, ax = plt.subplots(figsize=(8, 8))\n",
    "ax = sns.scatterplot(x='city_mpg', y='curb_weight', data=auto_price, \n",
    "                     hue = 'price', palette = 'magma', ax=ax)\n",
    "_=ax.set_title('City MPG vs. Weight \\nPrice by color', fontsize=18)\n",
    "_=ax.set_xlabel('City MPG', fontsize=16)\n",
    "_=ax.set_ylabel('Vehicle Weight', fontsize=16) \n",
    "plt.show()"
   ]
  },
  {
   "cell_type": "markdown",
   "metadata": {},
   "source": [
    "Examine the plot, noticing the general trend from the lower right to the upper left. The lowest weight, and highest mileage, autos generally have the lowest prices. The highest-weight, lowest mileage, autos generally have the highest prices. Within these general trends, some deviation is noticeable, but the general trend is clear from the color progression of the palette. \n",
    "\n",
    "While it is hard to draw quantitative conclusions from color progressions, they can help show general trends. This can be done effectively with the correct choice of palette. The best choice of palette to highlight a relationship can take some experimentation.   \n",
    "\n",
    "\n",
    "#### Sequential Color palettes and Heat Maps\n",
    "\n",
    "A **heat map** or **raster plot** allows you to visualize data that can be arranged on a regular grid or lattice. The heat map uses a **sequential color map** to show the values, or heat, on the grid. Data arranged on a lattice is fairly common in many areas: spatial analysis, image analysis, genetic marker mapping, and correlation analysis. \n",
    "\n",
    "Python's packages have several useful plotting methods to display lattice data, or data arranged in an N row X M column numeric array. In this case, we will use the [`heatmap`](https://seaborn.pydata.org/generated/seaborn.heatmap.html) method from Seaborn. \n",
    "\n",
    "In this example, we will create a heatmap of the number of airline passengers arranged by year horizontally and months vertically. These data are in the Seaborn example data sets. \n"
   ]
  },
  {
   "cell_type": "code",
   "execution_count": null,
   "metadata": {},
   "outputs": [],
   "source": [
    "airlines = sns.load_dataset(\"flights\")\n",
    "airlines.head()"
   ]
  },
  {
   "cell_type": "markdown",
   "metadata": {},
   "source": [
    "The data frame is organized in tabular form, not a lattice. The Pandas [`pivot`](https://pandas.pydata.org/pandas-docs/stable/reference/api/pandas.DataFrame.pivot.html) method is used to organize these data into the required lattice form. With the data correctly organized, the Seaborn `heatmap` function creates the display.\n",
    "\n"
   ]
  },
  {
   "cell_type": "code",
   "execution_count": null,
   "metadata": {},
   "outputs": [],
   "source": [
    "airlines = airlines.pivot(index='month', columns=\"year\", values='passengers')\n",
    "fig, ax = plt.subplots(figsize=(10, 8))\n",
    "ax = sns.heatmap(airlines, cmap='coolwarm', ax=ax)\n",
    "_=ax.set_title('Airline passengers by month and year', fontsize=18)\n",
    "_=ax.set_xlabel('Year', fontsize=16)\n",
    "_=ax.set_ylabel('Month of year', fontsize=16) \n",
    "plt.show()\n"
   ]
  },
  {
   "cell_type": "markdown",
   "metadata": {},
   "source": [
    "The display shows several important relationships in these data.    \n",
    "- The number of airline passengers increases significantly with the year.   \n",
    "- Air travel is more popular in the summer months.     \n",
    "\n",
    "### Marker Size\n",
    "\n",
    "Another moderately effective aesthetic useful for quantitative variables is **marker size**. As with a well chosen color palette, used properly, marker size can highlight important trends in complex data sets. But there are also limitations. The viewer can generally perceive relative differences, but not actual values.   \n",
    "\n",
    "Several Seaborn functions, including `scatterplot`, have a `size` argument, which sets marker size by values of the variable assigned. The range of marker sizes must also be specified with the `sizes` argument. Markers which are too small cannot be seen easily. Whereas, if the markers are too large, they will overlap and obscure one another. Some experimentation is usually required for a specific application.    \n",
    "\n",
    "An example, setting marker size to the size of the engine, is shown in the code below. \n"
   ]
  },
  {
   "cell_type": "code",
   "execution_count": null,
   "metadata": {},
   "outputs": [],
   "source": [
    "fig, ax = plt.subplots(figsize=(8, 8))\n",
    "ax = sns.scatterplot(x='city_mpg', y='curb_weight', data=auto_price,\n",
    "                     hue = 'price', palette = 'magma',\n",
    "                     size = 'engine_size', sizes = (50.0, 400.0),\n",
    "                     ax=ax)\n",
    "_=ax.set_title('City MPG vs. Weight \\nPrice by color, engine size by size', fontsize=18)\n",
    "_=ax.set_xlabel('City MPG', fontsize=16)\n",
    "_=ax.set_ylabel('Vehicle Weight', fontsize=16) \n",
    "plt.show()\n"
   ]
  },
  {
   "cell_type": "markdown",
   "metadata": {},
   "source": [
    "Notice that the engine size generally increases with vehicle weight. As with price, the trend is clear from the changing marker sizes. However, perception of specific numeric values of engine size is not possible. \n",
    "\n",
    "> **Exercise 5-5:** Consider how many dimensions of the auto data are projected onto the 2-dimensional surface of this plot. How can you best describe the relationship between all of these variables?   "
   ]
  },
  {
   "cell_type": "markdown",
   "metadata": {},
   "source": [
    "> **Answer:**\n",
    "> "
   ]
  },
  {
   "cell_type": "markdown",
   "metadata": {},
   "source": [
    "### Aesthetics with Limited Perceptive Power\n",
    "\n",
    "We have explored some aesthetics which are easy to perceive, and therefore quite powerful, and some others with moderate perceptive power. You may be surprised to learn that some commonly used plot aesthetics are not that easy to perceive. Without care, these aesthetics do not promote perception in the way a creator might think they will.     \n",
    "\n",
    "#### Line Plots and Line Type\n",
    "\n",
    "We have already encountered line plots. Line plots connect discrete, ordered, data points by a line. It is common practice to use different line pattern types to differentiate data grouped by a categorical variable. While this approach can be effective, it is only useful for a limited number of lines on one graph. The use of too many similar line pattern on one plot leads to viewer confusion and poor perception of the data relationships. In summary, line pattern can be effective, but only when used sparingly.  \n",
    "\n",
    "The code below creates a data frame using various transformations of the sunspot data.  "
   ]
  },
  {
   "cell_type": "code",
   "execution_count": null,
   "metadata": {},
   "outputs": [],
   "source": [
    "## Compute some transformed variables\n",
    "sunspot_mean = sunspots_data.loc[:,'SUNACTIVITY'].mean()\n",
    "y1 = [z/sunspot_mean for z in sunspots_data.loc[:,'SUNACTIVITY']]\n",
    "y2 = [log(z + 0.01) for z in y1]\n",
    "y3 = [1.0/(z + 0.1) for z in y1]\n",
    "y4 = [sqrt(z) for z in y1]\n",
    "## Construct the data frame\n",
    "df = pd.DataFrame({'Date':sunspots_data.loc[:,'YEAR'],'Normalized':y1, 'Log':y2, 'Inverse':y3, 'Sqrt':y4})\n",
    "## Convert the floating-point year to a Pandas datetime type\n",
    "df.loc[:,'Date'] = pd.to_datetime(df.loc[:,'Date'].astype(int),format='%Y')\n",
    "df.head()\n"
   ]
  },
  {
   "cell_type": "markdown",
   "metadata": {},
   "source": [
    "Now, we will make a time series plot of these transformed variables using a different line type for each variable. You can find [matplotlib line styles options in the documentation](https://matplotlib.org/3.1.0/gallery/lines_bars_and_markers/linestyles.html). The code below uses 4 line types to display the transformed variables on a time series plot.    \n",
    "\n"
   ]
  },
  {
   "cell_type": "code",
   "execution_count": null,
   "metadata": {},
   "outputs": [],
   "source": [
    "styles = [':','-.','--','-'] # Some line styles\n",
    "fig = plt.figure(figsize=(8, 4)) # define plot area\n",
    "ax = fig.gca() # define axis   \n",
    "temp = df[(df['Date'] > '1900-01-01') & (df['Date'] <= '1919-12-01')]\n",
    "## Iterate over the time series and line styles to plot\n",
    "for col, style in zip(temp[['Normalized','Log','Inverse','Sqrt']], styles):    \n",
    "    _=ax.plot(temp.Date, temp[col], linestyle = style, color = 'b', label=(col+'(sunspots)'), linewidth=1)\n",
    "## Annotate the plot, including legend\n",
    "_=ax.set_title('Line plot of transformed sunspot data \\nwith multiple line types') \n",
    "_=ax.set_xlabel('Date', fontsize=12) # Set text for the x axis\n",
    "_=ax.set_ylabel('Values', fontsize=12)# Set text for y axis    \n",
    "_=ax.legend()\n",
    "plt.show()\n"
   ]
  },
  {
   "cell_type": "markdown",
   "metadata": {},
   "source": [
    "Examine the plot above and notice that with just 4 types, the lines on the plot are distinct. This is even the case for the normalized sunspots and the square root of the normalized sunspots, which run quite close together. But, it is not hard to imagine that adding too many line types to a plot will cause perception problems for the viewer. \n",
    "\n",
    "In principle, a combination of color and line type can be used to make lines distinct. However, this method must be used cautiously. The result can easily be *line spaghetti* which is difficult to understand, at best. The limits of perception are hit quickly.   \n",
    "\n",
    "\n",
    "### Qualitative Color Palettes\n",
    "\n",
    "Qualitative (or categorical) color palettes are often used to display data grouped by a categorical variable. If the number of categories is few and the colors chosen are distinctive, this method can be effective. However, for more than a few categories, or if the choice of color is poor, this method is not effective. The result is often a confusing array of symbols with hard-to-distinguish colors, which will confound the understanding of the viewer. \n",
    "\n",
    "As an example where a qualitative palette works well consider the scatter plot shown below. There are only two categories and the colors are quite distinctive. \n"
   ]
  },
  {
   "cell_type": "code",
   "execution_count": null,
   "metadata": {},
   "outputs": [],
   "source": [
    "fig, ax = plt.subplots(figsize=(10, 8))\n",
    "_=sns.scatterplot(x = 'city_mpg', y = 'curb_weight',\n",
    "                  hue = 'fuel_type',\n",
    "                  data=auto_price,\n",
    "                  ax=ax)\n",
    "_=ax.set_title('City MPG vs. Weight Aspiration \\nfuel type by color', fontsize=18)\n",
    "_=ax.set_xlabel('City MPG', fontsize=16)\n",
    "_=ax.set_ylabel('Vehicle Weight', fontsize=16) \n",
    "plt.show()"
   ]
  },
  {
   "cell_type": "markdown",
   "metadata": {},
   "source": [
    "We can easily see the distinctive relationships for both gas and diesel-fueled cars. Using a few categorical colors from a well-chosen palette can be quite effective. \n",
    "\n",
    "> **Exercise 5-6:** What happens if a qualitative color palette is used with a large number of categories? To find out, create a scatter plot with city MPG on the horizontal axis and price on the vertical axis. Set the `hue` parameter to the make variable. "
   ]
  },
  {
   "cell_type": "code",
   "execution_count": null,
   "metadata": {},
   "outputs": [],
   "source": [
    "## Put your code below   \n",
    "\n",
    "\n",
    "\n",
    "\n",
    "\n"
   ]
  },
  {
   "cell_type": "markdown",
   "metadata": {},
   "source": [
    "> Is it possible to interpret the colors by make? What does this tell you about the limitations of using a larger number of colors from a qualitative palette? "
   ]
  },
  {
   "cell_type": "markdown",
   "metadata": {},
   "source": [
    "> **Answer:** \n"
   ]
  },
  {
   "cell_type": "markdown",
   "metadata": {},
   "source": [
    "> **Exercise 5-7:** What are a number of alternatives to the hard-to-understand plot you created in the previous exercise? The idea of ordered box plots can be applied to many data sets, including the automotive data. You will create two ordered box plots of weight and price on the vertical axis by auto make on the horizontal axis. Your code, ideally in a function, should do the following:      \n",
    "> 1. Compute the median of the variable grouped by the auto make and sorted by the variable.     \n",
    "> 2. Create a figure axis and plot the box plots using the `order` argument. Rotating the x-axis tick labels by 90 degrees will greatly improve readability.     \n",
    "> Execute your code for both numeric variables, weight and price. "
   ]
  },
  {
   "cell_type": "code",
   "execution_count": null,
   "metadata": {},
   "outputs": [],
   "source": [
    "## Put your code below   \n",
    "\n"
   ]
  },
  {
   "cell_type": "markdown",
   "metadata": {},
   "source": [
    "> Provide short answers to the following questions:    \n",
    "> 1. What do these two box plots show you that was difficult to perceive in the scatter plot? \n",
    "> 2. What information is lost when using ordered box plots?   "
   ]
  },
  {
   "cell_type": "markdown",
   "metadata": {},
   "source": [
    "> **Answers:** \n",
    "> 1.                 \n",
    "> 2.    "
   ]
  },
  {
   "cell_type": "markdown",
   "metadata": {},
   "source": [
    "### Marker Shape\n",
    "\n",
    "Marker shape is another commonly used plot aesthetic for displaying categorical relationships. As with qualitative color palettes, this aesthetic is only useful when two conditions are met:\n",
    "1. The number of categories is small.\n",
    "2. Distinctive shape are chosen for the markers.\n",
    "\n",
    "The code in the cell below uses the `scatterplot` function from the Seaborn package to plot aspiration as a marker type and color (hue) for fuel type.     "
   ]
  },
  {
   "cell_type": "code",
   "execution_count": null,
   "metadata": {},
   "outputs": [],
   "source": [
    "fig, ax = plt.subplots(figsize=(8, 8))\n",
    "ax=sns.scatterplot(x = 'city_mpg', y = 'curb_weight', \n",
    "                      style = 'aspiration', \n",
    "                      hue = 'fuel_type', \n",
    "                      data=auto_price, \n",
    "                      ax=ax)\n",
    "_=ax.set_title('Weight vs. City MPG \\nAspiration by marker shape \\nFuel type by color', fontsize=18)\n",
    "_=ax.set_xlabel('City MPG', fontsize=16)\n",
    "_=ax.set_ylabel('Vehicle Weight', fontsize=16) \n",
    "plt.show()"
   ]
  },
  {
   "cell_type": "markdown",
   "metadata": {},
   "source": [
    "The resulting plot above takes a bit of study to see any useful relationship. Several relationships can be noticed:\n",
    "1. For gas cars, it is clear that for the most part, only cars in the middle of the weight and fuel economy range have turbo aspiration. \n",
    "2. Most diesel cars have turbo aspiration, particularly the heavy cars. \n",
    "\n",
    "It is clear that without the color coding of the fuel type, these interpretations could not be found. This illustrates a key aspect of visualization for complex data. Very often **multiple plot attributes are needed to understand relationships**. "
   ]
  },
  {
   "cell_type": "markdown",
   "metadata": {},
   "source": [
    "> **Exercise 5-8:** Is it possible to project 5 dimensions of the auto data set onto the 2-dimensional plot surface? Create a scatter plot with curb weight on the vertical axis and price on the horizontal axis. Set the hue to fuel type, and the style to aspiration. Add engine size as marker size as an aesthetic. You will likely need to try different marker size ranges, assigning a tuple to the 'sizes' argument. Try to avoid too many over-plotted markers and use an alpha of 0.5. "
   ]
  },
  {
   "cell_type": "code",
   "execution_count": null,
   "metadata": {},
   "outputs": [],
   "source": [
    "## Put your code below\n",
    "\n"
   ]
  },
  {
   "cell_type": "markdown",
   "metadata": {},
   "source": [
    "> Referring to Exercise 5-5, what new information can you see about the relationships between these variables from this visualization?   "
   ]
  },
  {
   "cell_type": "markdown",
   "metadata": {},
   "source": [
    "> **Answer:** \n"
   ]
  },
  {
   "cell_type": "markdown",
   "metadata": {},
   "source": [
    "> **Exercise 5-9:** What happens when there are a large number of symbol shapes? To find out, create a scatter plot with price on the horizontal axis, vehicle weight on the vertical axis, and the `hue` argument set to fuel type. Set the `style` argument to the engine type. Leave marker size as the default. Use an alpha of 0.5."
   ]
  },
  {
   "cell_type": "code",
   "execution_count": null,
   "metadata": {},
   "outputs": [],
   "source": [
    "## Put your code below    \n",
    "\n",
    "\n",
    "\n",
    "\n"
   ]
  },
  {
   "cell_type": "markdown",
   "metadata": {},
   "source": [
    "> Can you find any useful pattern in the resulting plot? What does this tell you about using a large number of marker shapes and why? "
   ]
  },
  {
   "cell_type": "markdown",
   "metadata": {},
   "source": [
    "> **Answer:**    "
   ]
  },
  {
   "cell_type": "markdown",
   "metadata": {},
   "source": [
    "## Transformation of Variables\n",
    "\n",
    "So far, we have only been working with the variables as they appear in the original dataset. It is often quite useful to examine a number of possible transformations of some of the variables in a dataset to better understand the relationship. There are many functions one can choose from leading to a great many possible transformations. As a result of the number of possible choices, this process is time-consuming. However, the insight grained can often be worth the effort.    \n",
    "\n",
    "In this section, we will use a running example to better understand the relationship between auto price and weight. Our goal is to find transformations of these variables that provide a nearly linear relationship. Why linear? Our perception of relationships along straight lines is often quite good.      "
   ]
  },
  {
   "cell_type": "markdown",
   "metadata": {},
   "source": [
    "### Initial exploration  \n",
    "\n",
    "Adding regression lines is often a good place to start when exploring the functional relationship between two variables. Again, there are a great many choices. In this case we will start by adding a second-order polynomial regression line to a plot.   \n",
    "\n",
    "We will use the [seaborn.lmplot](https://seaborn.pydata.org/generated/seaborn.lmplot.html) function. The lmplot function ca use either lowess, nonlinear local regression, or polynomial regress to fit a curve to data. In this case we will used a polynomial regression line of a specified order to fit the data. The function computes and displays the 95% confidence intervals for the regression line. These confidence intervals can help when assessing model fit to the data. We will explore bootstrap resampled models in detail later. Unfortunately, Seaborn currently does not support bootstrap resampling for lowess models.     \n",
    "\n",
    "If you examine the documentation for lmplot, you will see that it does not use a Matplotlib axis. Rather, the function returns a seaborn [FacetGrid](https://seaborn.pydata.org/generated/seaborn.FacetGrid.html) object. We will have much more to say about using FacetGrids in the next chapter.   \n",
    "\n",
    "Now, execute the code in the cell below and examine the result."
   ]
  },
  {
   "cell_type": "code",
   "execution_count": null,
   "metadata": {},
   "outputs": [],
   "source": [
    "g = sns.lmplot(x = 'price', y = 'curb_weight', \n",
    "                      hue = 'fuel_type',\n",
    "                      order=2,\n",
    "                      aspect=1.2,\n",
    "                      height=6,\n",
    "                      data=auto_price)\n",
    "plt.title('Vehicle Weight vs. Price with 2nd order regression line \\nFuel type by hue', fontsize=18);\n",
    "plt.xlabel('Price', fontsize=16);\n",
    "plt.ylabel('Vehicle Weight', fontsize=16); "
   ]
  },
  {
   "cell_type": "markdown",
   "metadata": {},
   "source": [
    "You can see that the relationship between price and vehicle weight is far from linear. "
   ]
  },
  {
   "cell_type": "markdown",
   "metadata": {},
   "source": [
    "### Distribution of the variables     \n",
    "\n",
    "Nonlinear relationships are inevitably related to the probability distribution of the variables. The code in the cell below plots the kernel density estimation (KDE) plot for the two variables we are focused on. Execute this code and examine the results.  "
   ]
  },
  {
   "cell_type": "code",
   "execution_count": null,
   "metadata": {},
   "outputs": [],
   "source": [
    "fig, ax = plt.subplots(1,2,figsize=(16, 5))\n",
    "ax[0]=sns.kdeplot(x = 'price', \n",
    "                      hue = 'fuel_type',\n",
    "                      data=auto_price,\n",
    "                      ax=ax[0])\n",
    "ax[0].set_title('Density of price')\n",
    "ax[1]=sns.kdeplot(x = 'curb_weight', \n",
    "                      hue = 'fuel_type',\n",
    "                      data=auto_price,\n",
    "                      ax=ax[1])\n",
    "ax[1].set_title('Density of vehicle weight')"
   ]
  },
  {
   "cell_type": "markdown",
   "metadata": {},
   "source": [
    "Auto price has significant right skew for both gas and diesel. The distribution of the vehicle weight is less skewed. These observations indicate that transforming the price variable will be the better approach.    "
   ]
  },
  {
   "cell_type": "markdown",
   "metadata": {},
   "source": [
    "### Log transformations   \n",
    "\n",
    "A logarithmic transformation is often a good approach if a variable exhibits the following characteristics:      \n",
    "1. A significant right skew.  \n",
    "2. Only positive values.   \n",
    "\n",
    "Many real-world variables, such as price, weight, and temperature, exhibit these characteristics.  \n",
    "\n",
    "As an initial test of the log transformation, the code in the cell below creates KDE plots of both the variables of interest on a log scale. The Matplotlib `set` method is used to create the density plots with a logarithmic horizontal scale. Execute this code and examine the results.     "
   ]
  },
  {
   "cell_type": "code",
   "execution_count": null,
   "metadata": {},
   "outputs": [],
   "source": [
    "fig, ax = plt.subplots(1,2,figsize=(16, 5))\n",
    "ax[0]=sns.kdeplot(x = 'price', \n",
    "                      hue='fuel_type',\n",
    "                      data=auto_price,\n",
    "                      ax=ax[0])\n",
    "ax[0].set(xscale=\"log\")\n",
    "ax[0].set_title('Density of log price')\n",
    "ax[0].set_xlabel('Log price')\n",
    "ax[1]=sns.kdeplot(x = 'curb_weight', \n",
    "                      hue = 'fuel_type',\n",
    "                      data=auto_price,\n",
    "                      ax=ax[1])\n",
    "ax[1].set(xscale=\"log\")\n",
    "ax[1].set_title('Density of log vehicle weight')\n",
    "ax[1].set_xlabel('Log vehicle weight')"
   ]
  },
  {
   "cell_type": "markdown",
   "metadata": {},
   "source": [
    "Examine the shape of these distributions. The distribution of log prices is left-skewed, particularly for the gasoline cars. But, this left tail is thin. Whereas, the shape of the distribution of the less skewed variable, vehicle weight, has changed less, but is a bit more symmetric. "
   ]
  },
  {
   "cell_type": "markdown",
   "metadata": {},
   "source": [
    "> **Exercise 5-10:** To further test the effectiveness of the logarithmic transformation you will now do the following:    \n",
    "> 1. Create a set of plot axes for a 1 by 2 plot array.   \n",
    "> 2. Reproduce the plot from Exercise 5.8, with correct axis labels and title, and the following differences:      \n",
    ">     - On the first set of axis set the x-axis scale, for price, to logarithmic, with vehicle weight (`curb_weight`) on the vertical axis.  \n",
    ">     - On the second set of axis set the y-axis scale, for vehicle weight, to logarithmic, and the x-axis scale, for price, to logarithmic.   \n",
    "> Execute your code.   "
   ]
  },
  {
   "cell_type": "code",
   "execution_count": null,
   "metadata": {},
   "outputs": [],
   "source": [
    "## Put your code below   \n",
    "\n",
    "\n",
    "\n",
    "\n"
   ]
  },
  {
   "cell_type": "markdown",
   "metadata": {},
   "source": [
    "> Examine your results and answer the following questions:      \n",
    "> 1. Which pairing of logarithmic transformed or untransformed variables produced a more linear relationship with the other variable and why?  Hint, These relationships are fairly similar, but one results in less dispersion of the values around an imaginary straight line.      \n",
    "> 2. Is the change in shape of the distributions of the two variables between the original and transformed consistent with the results you observed for question 1?    "
   ]
  },
  {
   "cell_type": "markdown",
   "metadata": {},
   "source": [
    "> **Answers:**    \n",
    "> 1.    \n",
    "> 2.    "
   ]
  },
  {
   "cell_type": "markdown",
   "metadata": {},
   "source": [
    "### Power Transformations     \n",
    "\n",
    "Another possible method of transforming data is to apply a power transformation. The power transform simply raises the values, $v$, of a variable by a power. The power is expressed as the logarithm, $\\lambda$. Several algorithms have been developed to find values of $\\lambda$ for power transformation. These algorithms attempt to find $\\lambda$s that transform the variable to the closest fit to a Normal distribution. The resulting transformation is considered optimal since the relationship between Normally distributed variables tends to be linear.  \n",
    "\n",
    "One such transformation is the Box-Cox transform. The Box-Cox algorithm uses logarithmic transformations and is there for suitable variables with values greater than 0. The [sklearn.preprocessing.PowerTransformer](https://scikit-learn.org/stable/modules/generated/sklearn.preprocessing.PowerTransformer.html) function implements both the Box-Cox transformation and the Yeo-Johnson algorithm. \n",
    "\n",
    "The Box-Cox algorithm is defined by the following relations:   \n",
    "$$\n",
    "x^{(\\lambda)}_i = \n",
    "\\begin{cases}\n",
    "      \\frac{x^{\\lambda}_i - 1}{\\lambda},\\ if\\ \\lambda \\ne 0 \\\\\n",
    "      ln(x_i),\\ if\\ \\lambda = 0\n",
    "\\end{cases}  \n",
    "$$\n",
    "\n",
    "Note that in this formulation $\\lambda=0$ is the logarithm since $log(1) = 0$. Any values $0 \\gt \\lambda \\lt 1$ are roots of the values $x$. For example, for square root, we get $\\lambda = log(0.5) = -0.69$.  For values $1 \\lt \\lambda \\lt \\infty$ the variable is raised to a power. If $\\lambda$ is negtive the transform is by an inverse power. As another example, if the power is squared, then $\\lambda = log(2.0) = 0.69$, the same absolute value of $\\lambda$ with the opposite sign.  \n",
    "\n",
    "The code in the cell below finds and displays an optimal value of $\\lambda$. Execute this code and examine the result.  "
   ]
  },
  {
   "cell_type": "code",
   "execution_count": null,
   "metadata": {},
   "outputs": [],
   "source": [
    "pt = PowerTransformer(method='box-cox')\n",
    "pt.fit(np.array(auto_price['price']).reshape(-1, 1))\n",
    "print(pt.lambdas_)"
   ]
  },
  {
   "cell_type": "markdown",
   "metadata": {},
   "source": [
    "The optimal value of $\\lambda$ is just slightly less than an inverse square root. "
   ]
  },
  {
   "cell_type": "markdown",
   "metadata": {},
   "source": [
    "> **Exercise 5-11:** You will now apply the power transformation to the price variable and display the results. Do the following:   \n",
    "> 1. Use the `transform` method of the PowerTransformer object created above to create a transformed variable column in the data frame. Name this column `power_price`. You will need to apply the Numpy `reshape(-1, 1)` to the price column of the data frame to get an array of the dimensions Scikit-Learn expects.     \n",
    "> 2. Create a set of plot axes for a 1 by 2 plot array.     \n",
    "> 3. For the first axes set, create a plot similar to the one created in Exercise 5-8. Show log of vehicle weight on the vertical axis and transformed price on the horizontal axis. Make sure you have the correct axis labels and title on your plot.  \n",
    "> 4. For the second axes set, display KDE plots of the transformed price variable using the fuel type as the hue argument.        \n",
    "> Execute your code.    "
   ]
  },
  {
   "cell_type": "code",
   "execution_count": null,
   "metadata": {},
   "outputs": [],
   "source": [
    "## Put your code below   \n",
    "\n",
    "\n",
    "\n",
    "\n"
   ]
  },
  {
   "cell_type": "markdown",
   "metadata": {},
   "source": [
    "> Examine the plots you have created and answer these questions:     \n",
    "> 1. Does the relationship between between log of vehicle weight and the transformed price appear reasonably linear?   \n",
    "> 2. For the gas cars which price range(s) have vehicles with weight that are generally not consistent with a linear relationship with transformed price?    \n",
    "> 3. Is the shape of the distribution of price for both gas and diesel cars reasonably symmetric?    "
   ]
  },
  {
   "cell_type": "markdown",
   "metadata": {},
   "source": [
    "> **Answers:**     \n",
    "> 1.    \n",
    "> 2.     \n",
    "> 3.    "
   ]
  },
  {
   "cell_type": "markdown",
   "metadata": {},
   "source": [
    "As a further check on the power transformation of the price variable, we will display a plot of the transformed variable vs. log vehicle weight. We will include second-order bootstrap regression lines for both gas and diesel cars. Execute the code in the cell below to display this plot.   "
   ]
  },
  {
   "cell_type": "code",
   "execution_count": null,
   "metadata": {},
   "outputs": [],
   "source": [
    "g = sns.lmplot(x = 'power_price', y = 'curb_weight', \n",
    "                      hue = 'fuel_type',\n",
    "                      order=2,\n",
    "                      aspect=1.2,\n",
    "                      height=6,\n",
    "                      data=auto_price)\n",
    "plt.yscale(\"log\")\n",
    "plt.title('Vehicle Weight vs. Price with 2nd order regression line \\nFuel type by hue', fontsize=18);\n",
    "plt.xlabel('Power transformed price', fontsize=16);\n",
    "plt.ylabel('Log vehicle Weight', fontsize=16); "
   ]
  },
  {
   "cell_type": "markdown",
   "metadata": {},
   "source": [
    "Comparing the plot above to the equivalent plot for the original variables, one can see quite a difference. The relationship between the log vehicle weight and the power transformed price is close to linear for both gas and diesel cars. Further, the bootstrap confidence intervals are much narrower than for the original variables.  \n",
    "\n",
    "So you might well ask, what have we really achieved here? Could one have not simply fit some kind of non-linear model to these data and made predictions from it?   \n",
    "\n",
    "To answer these questions, one must focus on our goal of exploring the data and to providing insight into the relationships between the variables. This goal is not identical to creating a predictive model, but will be helpful if that is the next step in our process. Having found a simple and intuitive relationship between two important variables is a significant step toward this goal. Not only have we gained some insight into this relationship, but we would now be in a good position to explain this relationship to others so they will have similar insights.     "
   ]
  },
  {
   "cell_type": "markdown",
   "metadata": {},
   "source": [
    "## Summary\n",
    "\n",
    "In this chapter, we explored the following key points:       \n",
    "- Proper use of plot aesthetics enables the projection of multiple dimensions of complex data onto the 2-dimensional plot surface.     \n",
    "- All plot aesthetics have limitations which must be understood to use them effectively.     \n",
    "- The effectiveness of a plot aesthetic varies with the type and the application.   \n",
    "- Using transformations to improve perception of relationships between variables.  \n",
    "\n",
    "#### Copyright 2020, 2021, 2022, 2023, 2024 Stephen F Elston. All rights reserved.       \n",
    "\n",
    "## Bibliography     \n",
    "\n",
    "\n",
    "\n",
    "\n",
    "."
   ]
  },
  {
   "cell_type": "code",
   "execution_count": null,
   "metadata": {},
   "outputs": [],
   "source": []
  }
 ],
 "metadata": {
  "kernelspec": {
   "display_name": "Python 3 (ipykernel)",
   "language": "python",
   "name": "python3"
  },
  "language_info": {
   "codemirror_mode": {
    "name": "ipython",
    "version": 3
   },
   "file_extension": ".py",
   "mimetype": "text/x-python",
   "name": "python",
   "nbconvert_exporter": "python",
   "pygments_lexer": "ipython3",
   "version": "3.9.18"
  }
 },
 "nbformat": 4,
 "nbformat_minor": 4
}
